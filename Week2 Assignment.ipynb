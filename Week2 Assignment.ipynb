{
 "cells": [
  {
   "cell_type": "markdown",
   "id": "c105983b",
   "metadata": {},
   "source": [
    "# Comprehensions\n",
    "\n",
    "- List Comprehension\n",
    "- Dictionary/Set Comprehension\n",
    "- Generator Comprehension\n",
    "\n",
    "Functional Programming in Python\n",
    "- Map function\n",
    "- Filter function\n",
    "- Reduce function"
   ]
  },
  {
   "cell_type": "markdown",
   "id": "0b2a658d",
   "metadata": {},
   "source": [
    "## Example 1. Create new lists\n",
    "\n",
    "Construct new list using old one (item by item): lst_num=[0,1,2,...,9], convert each number to string and store in a new list."
   ]
  },
  {
   "cell_type": "code",
   "execution_count": 1,
   "id": "9baeb69a",
   "metadata": {},
   "outputs": [
    {
     "name": "stdout",
     "output_type": "stream",
     "text": [
      "[0, 1, 2, 3, 4, 5, 6, 7, 8, 9]\n"
     ]
    }
   ],
   "source": [
    "# create list\n",
    "lst_num = list(range(10))\n",
    "print(lst_num)"
   ]
  },
  {
   "cell_type": "markdown",
   "id": "adf78217",
   "metadata": {},
   "source": [
    "Solution 1: Use for loop"
   ]
  },
  {
   "cell_type": "code",
   "execution_count": 2,
   "id": "fc4f7ee0",
   "metadata": {},
   "outputs": [
    {
     "name": "stdout",
     "output_type": "stream",
     "text": [
      "['0', '1', '2', '3', '4', '5', '6', '7', '8', '9']\n"
     ]
    }
   ],
   "source": [
    "lst_str = []\n",
    "# iterate every item in the list\n",
    "for i in lst_num:\n",
    "    lst_str.append(str(i))\n",
    "print(lst_str)"
   ]
  },
  {
   "cell_type": "markdown",
   "id": "47f3758f",
   "metadata": {},
   "source": [
    "Solution 2: List Comprehension"
   ]
  },
  {
   "cell_type": "code",
   "execution_count": 3,
   "id": "8f6f132e",
   "metadata": {},
   "outputs": [
    {
     "name": "stdout",
     "output_type": "stream",
     "text": [
      "['0', '1', '2', '3', '4', '5', '6', '7', '8', '9']\n"
     ]
    }
   ],
   "source": [
    "# list comprehension\n",
    "lst_str = [str(i) for i in lst_num]\n",
    "print(lst_str)"
   ]
  },
  {
   "cell_type": "markdown",
   "id": "e56335fd",
   "metadata": {},
   "source": [
    "## Example 2. \n",
    "\n",
    "Take the odd numbers from 0 to 9 and store them in a new list."
   ]
  },
  {
   "cell_type": "code",
   "execution_count": 4,
   "id": "6a7266dd",
   "metadata": {},
   "outputs": [
    {
     "name": "stdout",
     "output_type": "stream",
     "text": [
      "[1, 3, 5, 7, 9]\n"
     ]
    }
   ],
   "source": [
    "# only print odd number sub-list.\n",
    "# for each item, times 10; print the sublist\n",
    "lst_odd=[]\n",
    "for item in lst_num:\n",
    "    if item % 2 == 1:\n",
    "        lst_odd.append(item)\n",
    "print(lst_odd)"
   ]
  },
  {
   "cell_type": "code",
   "execution_count": 6,
   "id": "6ab6e15c",
   "metadata": {},
   "outputs": [
    {
     "name": "stdout",
     "output_type": "stream",
     "text": [
      "[1, 3, 5, 7, 9]\n"
     ]
    }
   ],
   "source": [
    "lst_odd = [ i for i in lst_num if i % 2 == 1 ]\n",
    "print(lst_odd)"
   ]
  },
  {
   "cell_type": "markdown",
   "id": "2e4bcc0a",
   "metadata": {},
   "source": [
    "## Example 3.\n",
    "\n",
    "We have three languages in the list: [\"Python\", \"Java\", \"Javascript\"]\n",
    "Number represents the version. [1, 2, 3]\n",
    "We need to list all the combination."
   ]
  },
  {
   "cell_type": "code",
   "execution_count": 9,
   "id": "bba96d27",
   "metadata": {},
   "outputs": [],
   "source": [
    "languages = [\"Python\", \"Java\", \"Javascript\"]\n",
    "versions = [1,2,3]"
   ]
  },
  {
   "cell_type": "code",
   "execution_count": 11,
   "id": "723c9de7",
   "metadata": {},
   "outputs": [
    {
     "name": "stdout",
     "output_type": "stream",
     "text": [
      "['Python_v1', 'Python_v2', 'Python_v3', 'Java_v1', 'Java_v2', 'Java_v3', 'Javascript_v1', 'Javascript_v2', 'Javascript_v3']\n"
     ]
    }
   ],
   "source": [
    "releases = []\n",
    "for lang in languages:\n",
    "    for v in versions:\n",
    "        releases.append(lang+\"_v\"+str(v))\n",
    "print(releases)"
   ]
  },
  {
   "cell_type": "code",
   "execution_count": 31,
   "id": "975909da",
   "metadata": {},
   "outputs": [
    {
     "name": "stdout",
     "output_type": "stream",
     "text": [
      "['Python_v1', 'Python_v2', 'Python_v3', 'Java_v1', 'Java_v2', 'Java_v3', 'Javascript_v1', 'Javascript_v2', 'Javascript_v3']\n"
     ]
    }
   ],
   "source": [
    "# use list comprehension\n",
    "releases = [ \"{}_v{}\".format(l,v) for l in languages for v in versions ]\n",
    "print(releases)"
   ]
  },
  {
   "cell_type": "markdown",
   "id": "30d89528",
   "metadata": {},
   "source": [
    "## Example 4.1 Dictionary Exchange\n",
    "\n",
    "Supposing, we have an existing dictionary with keys and values.\n",
    "We want to exchange the keys with the values and store in a new dictionary."
   ]
  },
  {
   "cell_type": "code",
   "execution_count": 15,
   "id": "28e5f936",
   "metadata": {},
   "outputs": [],
   "source": [
    "char_dict = {0:\"a\",1:\"b\",2:\"c\"}\n",
    "char_dict_reversed = {}"
   ]
  },
  {
   "cell_type": "code",
   "execution_count": 16,
   "id": "27b8fd01",
   "metadata": {},
   "outputs": [
    {
     "name": "stdout",
     "output_type": "stream",
     "text": [
      "{'a': 0, 'b': 1, 'c': 2}\n"
     ]
    }
   ],
   "source": [
    "# iterate dictionary\n",
    "for key in char_dict:\n",
    "    value = char_dict[key]\n",
    "    char_dict_reversed[value]=key\n",
    "print(char_dict_reversed)"
   ]
  },
  {
   "cell_type": "code",
   "execution_count": 17,
   "id": "a893785e",
   "metadata": {},
   "outputs": [
    {
     "name": "stdout",
     "output_type": "stream",
     "text": [
      "{'a': 0, 'b': 1, 'c': 2}\n"
     ]
    }
   ],
   "source": [
    "for key,value in char_dict.items():\n",
    "    char_dict_reversed[value]=key\n",
    "print(char_dict_reversed)"
   ]
  },
  {
   "cell_type": "code",
   "execution_count": 19,
   "id": "6d975f01",
   "metadata": {},
   "outputs": [
    {
     "name": "stdout",
     "output_type": "stream",
     "text": [
      "{'a': 0, 'b': 1, 'c': 2}\n"
     ]
    }
   ],
   "source": [
    "# use dict comprehension\n",
    "char_dict_reversed = {val:key for key, val in char_dict.items()}\n",
    "print(char_dict_reversed)"
   ]
  },
  {
   "cell_type": "markdown",
   "id": "de99e6f6",
   "metadata": {},
   "source": [
    "## Example 4.2 Find set operation\n",
    "\n",
    "Store all the value from a dictionary in a set."
   ]
  },
  {
   "cell_type": "code",
   "execution_count": 20,
   "id": "862dd6f4",
   "metadata": {},
   "outputs": [],
   "source": [
    "char_dict = {0:\"a\",1:\"b\",2:\"c\",3:\"c\",4:\"b\"}"
   ]
  },
  {
   "cell_type": "code",
   "execution_count": 21,
   "id": "8fc369bc",
   "metadata": {},
   "outputs": [
    {
     "name": "stdout",
     "output_type": "stream",
     "text": [
      "{'a', 'c', 'b'}\n"
     ]
    }
   ],
   "source": [
    "char_set=set()\n",
    "for key,value in char_dict.items():\n",
    "    char_set.add(value)\n",
    "print(char_set)"
   ]
  },
  {
   "cell_type": "code",
   "execution_count": 22,
   "id": "36db1a05",
   "metadata": {},
   "outputs": [
    {
     "name": "stdout",
     "output_type": "stream",
     "text": [
      "{'a', 'c', 'b'}\n"
     ]
    }
   ],
   "source": [
    "# use comprehension\n",
    "char_set = { char for key, char in char_dict.items()}\n",
    "print(char_set)"
   ]
  },
  {
   "cell_type": "markdown",
   "id": "a9d7bf65",
   "metadata": {},
   "source": [
    "# Generator Comprehensions\n",
    "\n",
    "There is no comprehension working for tuple as it is immutable. \n",
    "However, we can use comprehension to create generator."
   ]
  },
  {
   "cell_type": "code",
   "execution_count": 29,
   "id": "130252ff",
   "metadata": {},
   "outputs": [
    {
     "name": "stdout",
     "output_type": "stream",
     "text": [
      "It takes 0.43284130096435547 seconds to loop generators!\n",
      "It takes 0.7031214237213135 seconds to loop list!\n",
      "It takes 0.6157550811767578 seconds to loop created list!\n"
     ]
    }
   ],
   "source": [
    "# generators are more efficient, only compute when calling next() function, saves memory\n",
    "# example: comparing efficiency between generators and lists\n",
    "import time\n",
    "\n",
    "t0 = time.time()\n",
    "for i in range(int(1e7)):\n",
    "    pass\n",
    "print(\"It takes {} seconds to loop generators!\".format(time.time()-t0))\n",
    "\n",
    "t0 = time.time()\n",
    "for i in list(range(int(1e7))):\n",
    "    pass\n",
    "print(\"It takes {} seconds to loop list!\".format(time.time()-t0))\n",
    "\n",
    "t0 = time.time()\n",
    "big_lst = list(range(int(1e7)))\n",
    "for i in big_lst:\n",
    "    pass\n",
    "print(\"It takes {} seconds to loop created list!\".format(time.time()-t0))"
   ]
  },
  {
   "cell_type": "markdown",
   "id": "7212aff4",
   "metadata": {},
   "source": [
    "## Example 5. Create generator\n",
    "\n",
    "Check all the previous software verison by using generator. Tuple needs to be returned at the end."
   ]
  },
  {
   "cell_type": "code",
   "execution_count": 36,
   "id": "abc0e2e1",
   "metadata": {},
   "outputs": [
    {
     "name": "stdout",
     "output_type": "stream",
     "text": [
      "['Python_v1', 'Python_v2', 'Python_v3', 'Java_v1', 'Java_v2', 'Java_v3', 'Javascript_v1', 'Javascript_v2', 'Javascript_v3']\n"
     ]
    }
   ],
   "source": [
    "print(releases)"
   ]
  },
  {
   "cell_type": "code",
   "execution_count": 56,
   "id": "e7246ef1",
   "metadata": {},
   "outputs": [
    {
     "name": "stdout",
     "output_type": "stream",
     "text": [
      "<class 'generator'>\n"
     ]
    }
   ],
   "source": [
    "# no generator for tuples but has syntax for generators\n",
    "release_gen = ( r for r in releases )\n",
    "print(type(release_gen))\n",
    "# for i in release_gen:\n",
    "#     time.sleep(0.2)\n",
    "#     print(i)"
   ]
  },
  {
   "cell_type": "code",
   "execution_count": 57,
   "id": "3ea9b117",
   "metadata": {},
   "outputs": [
    {
     "data": {
      "text/plain": [
       "'Python_v1'"
      ]
     },
     "execution_count": 57,
     "metadata": {},
     "output_type": "execute_result"
    }
   ],
   "source": [
    "next(release_gen)"
   ]
  },
  {
   "cell_type": "code",
   "execution_count": 46,
   "id": "cf99c524",
   "metadata": {},
   "outputs": [
    {
     "name": "stdout",
     "output_type": "stream",
     "text": [
      "{'a': 0}\n",
      "{'b': 1}\n",
      "{'c': 2}\n",
      "{'c': 3}\n",
      "{'b': 4}\n"
     ]
    }
   ],
   "source": [
    "# use for loop (should contained in a function)\n",
    "def dict_reverse_gen(my_dict):\n",
    "    for key, value in my_dict.items():\n",
    "        yield {value:key}\n",
    "        \n",
    "my_reverse_gen = dict_reverse_gen(char_dict)\n",
    "\n",
    "for i in my_reverse_gen:\n",
    "    time.sleep(0.2)\n",
    "    print(i)"
   ]
  },
  {
   "cell_type": "markdown",
   "id": "b24db7e3",
   "metadata": {},
   "source": [
    "#### Conclusions for Generator\n",
    "Advantages:\n",
    "\n",
    "1. Save memories. No need to store all the calculation result in the memory.\n",
    "2. A method to manipulate the functions.\n",
    "3. A type of stream concept.\n",
    "4. Other package often return a generator."
   ]
  }
 ],
 "metadata": {
  "kernelspec": {
   "display_name": "Python 3 (ipykernel)",
   "language": "python",
   "name": "python3"
  },
  "language_info": {
   "codemirror_mode": {
    "name": "ipython",
    "version": 3
   },
   "file_extension": ".py",
   "mimetype": "text/x-python",
   "name": "python",
   "nbconvert_exporter": "python",
   "pygments_lexer": "ipython3",
   "version": "3.9.6"
  }
 },
 "nbformat": 4,
 "nbformat_minor": 5
}
